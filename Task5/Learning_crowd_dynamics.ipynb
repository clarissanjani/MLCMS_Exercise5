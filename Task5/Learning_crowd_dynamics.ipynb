{
 "cells": [
  {
   "cell_type": "code",
   "execution_count": 4,
   "metadata": {},
   "outputs": [],
   "source": [
    "from utils import *\n",
    "\n",
    "data = import_data('MI_timesteps.txt')\n",
    "\n",
    "data_points = []\n",
    "\n",
    "for i in range(0, 11000):\n",
    "    e = create_delay_embedding(data, i, 351)\n",
    "    data_points.append(vectorize_delay_embedding(e))"
   ]
  },
  {
   "cell_type": "markdown",
   "metadata": {},
   "source": [
    "# PCA"
   ]
  },
  {
   "cell_type": "code",
   "execution_count": 5,
   "metadata": {},
   "outputs": [],
   "source": [
    "# Centering the matrix\n",
    "\n",
    "X_m = data_points - np.mean(data_points)"
   ]
  },
  {
   "cell_type": "code",
   "execution_count": 6,
   "metadata": {},
   "outputs": [
    {
     "data": {
      "text/plain": [
       "((11000, 11000), (1053,), (1053, 1053))"
      ]
     },
     "execution_count": 6,
     "metadata": {},
     "output_type": "execute_result"
    }
   ],
   "source": [
    "# Decomposing the matrix\n",
    "\n",
    "u, s, vh = np.linalg.svd(X_m, full_matrices=True)\n",
    "\n",
    "u.shape, s.shape, vh.shape"
   ]
  },
  {
   "cell_type": "code",
   "execution_count": 7,
   "metadata": {},
   "outputs": [
    {
     "data": {
      "text/plain": [
       "(11000, 1053)"
      ]
     },
     "execution_count": 7,
     "metadata": {},
     "output_type": "execute_result"
    }
   ],
   "source": [
    "# Reshaping matrix s\n",
    "\n",
    "smat = np.zeros((u.shape[1], vh.shape[0]), dtype=float)\n",
    "smat[:s.size, :s.size] = np.diag(s)\n",
    "    \n",
    "smat.shape"
   ]
  },
  {
   "cell_type": "code",
   "execution_count": 9,
   "metadata": {},
   "outputs": [],
   "source": [
    "# Projecting to the first three components\n",
    "\n",
    "s_diag = np.diag(s)\n",
    "\n",
    "for i in range(smat.shape[0]):\n",
    "    if (i >= 3):\n",
    "        smat[i, :] = 0"
   ]
  },
  {
   "cell_type": "code",
   "execution_count": 10,
   "metadata": {},
   "outputs": [
    {
     "data": {
      "text/plain": [
       "(11000, 1053)"
      ]
     },
     "execution_count": 10,
     "metadata": {},
     "output_type": "execute_result"
    }
   ],
   "source": [
    "# Calculating the reduced system\n",
    "\n",
    "smat = np.zeros((u.shape[1], vh.shape[0]), dtype=float)\n",
    "smat[:s.size, :s.size] = np.diag(s)\n",
    "\n",
    "for i in range(smat.shape[0]):\n",
    "    if (i >= 3):\n",
    "        smat[i, :] = 0\n",
    "    \n",
    "X_red = u@smat@vh\n",
    "\n",
    "X_red.shape\n",
    "\n"
   ]
  },
  {
   "cell_type": "code",
   "execution_count": 39,
   "metadata": {},
   "outputs": [
    {
     "name": "stdout",
     "output_type": "stream",
     "text": [
      "(11000,)\n",
      "(1053,)\n"
     ]
    },
    {
     "data": {
      "text/plain": [
       "<matplotlib.collections.PathCollection at 0x137fb2ba188>"
      ]
     },
     "execution_count": 39,
     "metadata": {},
     "output_type": "execute_result"
    },
    {
     "data": {
      "text/plain": [
       "<Figure size 432x288 with 0 Axes>"
      ]
     },
     "metadata": {},
     "output_type": "display_data"
    },
    {
     "data": {
      "image/png": "[encoded data removed]",
      "text/plain": [
       "<Figure size 432x288 with 1 Axes>"
      ]
     },
     "metadata": {
      "needs_background": "light"
     },
     "output_type": "display_data"
    }
   ],
   "source": [
    "# Plotting the reduced system\n",
    "import matplotlib.pyplot as plt\n",
    "\n",
    "time_space = np.linspace(0, 11000, 11000)\n",
    "print(time_space.shape)\n",
    "\n",
    "fig_single = plt.figure()\n",
    "fig_single, ax_single = plt.subplots()\n",
    "print(X_red[1, :].shape)\n",
    "ax_single.scatter(time_space, X_red[:, 1].T, s = 1)\n",
    "\n",
    "# fig_single.savefig(\"images/pedestrian_single.png\")"
   ]
  },
  {
   "cell_type": "code",
   "execution_count": null,
   "metadata": {},
   "outputs": [],
   "source": []
  },
  {
   "cell_type": "code",
   "execution_count": null,
   "metadata": {},
   "outputs": [],
   "source": []
  }
 ],
 "metadata": {
  "kernelspec": {
   "display_name": "Python 3",
   "language": "python",
   "name": "python3"
  },
  "language_info": {
   "codemirror_mode": {
    "name": "ipython",
    "version": 3
   },
   "file_extension": ".py",
   "mimetype": "text/x-python",
   "name": "python",
   "nbconvert_exporter": "python",
   "pygments_lexer": "ipython3",
   "version": "3.7.6"
  }
 },
 "nbformat": 4,
 "nbformat_minor": 4
}
