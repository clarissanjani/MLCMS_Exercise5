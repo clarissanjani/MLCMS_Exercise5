{
 "cells": [
  {
   "cell_type": "code",
   "execution_count": 1,
   "metadata": {},
   "outputs": [
    {
     "name": "stdout",
     "output_type": "stream",
     "text": [
      "[36, 0, 0, 43, 0, 0, 49, 0, 0, 59, 0, 0, 68, 0, 0]\n"
     ]
    }
   ],
   "source": [
    "from utils import *\n",
    "\n",
    "data = import_data('MI_timesteps.txt')\n",
    "\n",
    "data_points = []\n",
    "\n",
    "for i in range(0, 11000):\n",
    "    e = create_delay_embedding(data, i, 351)\n",
    "    data_points.append(vectorize_delay_embedding(e))"
   ]
  },
  {
   "cell_type": "code",
   "execution_count": null,
   "metadata": {},
   "outputs": [],
   "source": []
  },
  {
   "cell_type": "code",
   "execution_count": null,
   "metadata": {},
   "outputs": [],
   "source": []
  }
 ],
 "metadata": {
  "kernelspec": {
   "display_name": "Python 3",
   "language": "python",
   "name": "python3"
  },
  "language_info": {
   "codemirror_mode": {
    "name": "ipython",
    "version": 3
   },
   "file_extension": ".py",
   "mimetype": "text/x-python",
   "name": "python",
   "nbconvert_exporter": "python",
   "pygments_lexer": "ipython3",
   "version": "3.7.6"
  }
 },
 "nbformat": 4,
 "nbformat_minor": 4
}
